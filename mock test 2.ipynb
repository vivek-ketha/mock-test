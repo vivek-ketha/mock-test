{
 "cells": [
  {
   "cell_type": "code",
   "execution_count": 1,
   "id": "0d73f841",
   "metadata": {},
   "outputs": [],
   "source": [
    "class Queue:\n",
    "    def __init__(self):\n",
    "        self.queue = []\n",
    "\n",
    "    def enqueue(self, item):\n",
    "        self.queue.append(item)\n",
    "\n",
    "    def dequeue(self):\n",
    "        if not self.isEmpty():\n",
    "            return self.queue.pop(0)\n",
    "        else:\n",
    "            print(\"Queue is empty.\")\n",
    "            return None\n",
    "\n",
    "    def isEmpty(self):\n",
    "        return len(self.queue) == 0\n"
   ]
  },
  {
   "cell_type": "code",
   "execution_count": 2,
   "id": "f73ad67c",
   "metadata": {},
   "outputs": [
    {
     "name": "stdout",
     "output_type": "stream",
     "text": [
      "10\n",
      "False\n",
      "20\n",
      "30\n",
      "True\n",
      "Queue is empty.\n",
      "None\n"
     ]
    }
   ],
   "source": [
    "queue = Queue()\n",
    "queue.enqueue(10)\n",
    "queue.enqueue(20)\n",
    "queue.enqueue(30)\n",
    "print(queue.dequeue())  # Output: 10\n",
    "print(queue.isEmpty())  # Output: False\n",
    "print(queue.dequeue())  # Output: 20\n",
    "print(queue.dequeue())  # Output: 30\n",
    "print(queue.isEmpty())  # Output: True\n",
    "print(queue.dequeue())  # Output: Queue is empty. None\n"
   ]
  },
  {
   "cell_type": "code",
   "execution_count": null,
   "id": "1f9a8bf0",
   "metadata": {},
   "outputs": [],
   "source": []
  }
 ],
 "metadata": {
  "kernelspec": {
   "display_name": "Python 3 (ipykernel)",
   "language": "python",
   "name": "python3"
  },
  "language_info": {
   "codemirror_mode": {
    "name": "ipython",
    "version": 3
   },
   "file_extension": ".py",
   "mimetype": "text/x-python",
   "name": "python",
   "nbconvert_exporter": "python",
   "pygments_lexer": "ipython3",
   "version": "3.10.9"
  }
 },
 "nbformat": 4,
 "nbformat_minor": 5
}
